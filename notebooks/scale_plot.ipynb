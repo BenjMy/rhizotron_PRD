{
 "cells": [
  {
   "cell_type": "markdown",
   "id": "80091a65-2cf4-45eb-8569-cc3414d9642f",
   "metadata": {
    "iooxa": {
     "id": {
      "block": "7lEnwcPvLVf4nt3hTwph",
      "project": "r50sjqh0N833m3jIlRNr",
      "version": 1
     }
    },
    "tags": []
   },
   "source": [
    "# Data analysis and visualisation of the rhizotron scale"
   ]
  },
  {
   "cell_type": "code",
   "execution_count": 1,
   "id": "01d1971b-700d-4cbd-8053-214d1fecd63b",
   "metadata": {
    "iooxa": {
     "id": {
      "block": "sgsNkvFtkNUFBkiq0eHK",
      "project": "r50sjqh0N833m3jIlRNr",
      "version": 1
     },
     "outputId": null
    }
   },
   "outputs": [],
   "source": [
    "import pandas as pd\n",
    "import matplotlib.pyplot as plt\n",
    "import datetime as dt\n",
    "import matplotlib.dates as mdates"
   ]
  },
  {
   "cell_type": "code",
   "execution_count": 2,
   "id": "e8b4689e",
   "metadata": {
    "iooxa": {
     "id": {
      "block": "FyKqcIgEt2NoIqgVizcq",
      "project": "r50sjqh0N833m3jIlRNr",
      "version": 1
     },
     "outputId": null
    }
   },
   "outputs": [],
   "source": [
    "sheet_id = '1GqDKU8fC0Pw_DQpUD-MBLpN-AXWrAzLuO1hABxxYIhc'\n",
    "sheet_name = ['apr_6-11','apr_11-13','apr_13-21','apr_21-26','apr_28-may_2']\n",
    "sheet_nb = 5\n",
    "url = f'https://docs.google.com/spreadsheets/d/{sheet_id}/gviz/tq?tqx=out:csv&sheet={sheet_name[sheet_nb-1]}'\n",
    "data_scale = pd.read_csv(url, decimal=',')"
   ]
  },
  {
   "cell_type": "code",
   "execution_count": 3,
   "id": "6d22acc4",
   "metadata": {
    "iooxa": {
     "id": {
      "block": "jaTQqYxTaoFmZsjreLfO",
      "project": "r50sjqh0N833m3jIlRNr",
      "version": 1
     },
     "outputId": null
    }
   },
   "outputs": [],
   "source": [
    "# add absolute date collumn\n",
    "\n",
    "data_scale['abs_date'] = pd.to_datetime(data_scale['date'] + \" \" + data_scale['time'],\n",
    "                                        infer_datetime_format=True)  \n",
    "\n",
    "#data_scale['abs_date2'] = pd.to_datetime(data_scale['abs_date'],\n",
    "#                                        format=\"%Y-%m-%d %H:%M:%S\")  \n",
    "\n",
    "#data_scale = data_scale.set_index('abs_date')\n",
    "initial_date = data_scale['abs_date'][0]\n"
   ]
  },
  {
   "cell_type": "code",
   "execution_count": 4,
   "id": "46f0c5e7-a632-4e1e-aa99-03e1e837823d",
   "metadata": {
    "iooxa": {
     "id": {
      "block": "5uDo0aKtE0Afhu04Jb8H",
      "project": "r50sjqh0N833m3jIlRNr",
      "version": 1
     },
     "outputId": null
    }
   },
   "outputs": [],
   "source": [
    "#data_scale = pd.read_csv('evapo_test4.csv',header=None,names=['weight','time'])\n",
    "#data_scale\n",
    "#initial_date = pd.Timestamp('2022-03-02 16:00:00')\n",
    "initial_date = data_scale['abs_date'][0]\n",
    "dates = []\n",
    "for i in range(len(data_scale['time'])):\n",
    "    dates.append(initial_date + pd.Timedelta(seconds=data_scale['sec'][i]))\n",
    "date_time = [t.strftime(\"%Y-%m-%d %H:%M:%S\") for t in dates]\n",
    "data_scale['abs_date_new']=date_time\n",
    "data_scale['abs_date_new']= pd.to_datetime(data_scale['abs_date_new'])\n",
    "#data_scale.dtypes\n"
   ]
  },
  {
   "cell_type": "markdown",
   "id": "a8dc1864-8164-491d-a1f7-e59889ff7217",
   "metadata": {
    "iooxa": {
     "id": {
      "block": "hIBdCUzz0YAIZvm8LYdl",
      "project": "r50sjqh0N833m3jIlRNr",
      "version": 1
     }
    }
   },
   "source": [
    "## Plot raw data"
   ]
  },
  {
   "cell_type": "code",
   "execution_count": 5,
   "id": "7f10c580",
   "metadata": {
    "iooxa": {
     "id": {
      "block": "KLKr3FCYzUXLBXMfCagG",
      "project": "r50sjqh0N833m3jIlRNr",
      "version": 1
     },
     "outputId": {
      "block": "AF1GU8v9XxVzxRxfmboa",
      "project": "r50sjqh0N833m3jIlRNr",
      "version": 1
     }
    }
   },
   "outputs": [
    {
     "data": {
      "text/plain": [
       "[Text(0.5, 0, 'Date'),\n",
       " Text(0, 0.5, 'weight (kg)'),\n",
       " Text(0.5, 1.0, 'Raw data sheet apr_28-may_2')]"
      ]
     },
     "execution_count": 5,
     "metadata": {},
     "output_type": "execute_result"
    },
    {
     "data": {
      "image/png": "[encoded data removed]",
      "text/plain": [
       "<Figure size 1296x360 with 1 Axes>"
      ]
     },
     "metadata": {
      "needs_background": "light"
     },
     "output_type": "display_data"
    }
   ],
   "source": [
    "fig, ax = plt.subplots(figsize=(18, 5))\n",
    "\n",
    "data_scale.plot('abs_date_new', 'weight (kg)', style='o', ax=ax)\n",
    "\n",
    "ax.xaxis.set_major_locator(mdates.DayLocator(interval=1))\n",
    "ax.xaxis.set_minor_locator(mdates.HourLocator(interval=2))\n",
    "\n",
    "ax.xaxis.set_major_formatter(mdates.DateFormatter('%d-%H'))\n",
    "ax.xaxis.set_minor_formatter(mdates.DateFormatter('%H'))\n",
    "\n",
    "\n",
    "# Set title and labels for axes\n",
    "ax.set(xlabel=\"Date\",\n",
    "       ylabel=\"weight (kg)\",\n",
    "       title=\"Raw data sheet \" + sheet_name[sheet_nb-1])\n",
    "\n"
   ]
  },
  {
   "cell_type": "markdown",
   "id": "e4d62498-7df1-4a86-872f-f3a398864d88",
   "metadata": {
    "iooxa": {
     "id": {
      "block": "ZzlN2YZhTHFFQT3X3dGM",
      "project": "r50sjqh0N833m3jIlRNr",
      "version": 1
     }
    }
   },
   "source": [
    "## Data processing and computation of relevant values"
   ]
  },
  {
   "cell_type": "code",
   "execution_count": 20,
   "id": "014d635c-f207-4684-aa85-b48fde08f2be",
   "metadata": {
    "iooxa": {
     "id": {
      "block": "wPCyzZopdzRi2RN7zN4Y",
      "project": "r50sjqh0N833m3jIlRNr",
      "version": 1
     },
     "outputId": null
    }
   },
   "outputs": [],
   "source": [
    "data_scale['cumweight'] = data_scale['weight (kg)'].cumsum()\n",
    "#data_scale['rolling'] = data_scale['weight (kg)'].rolling(20).sum()\n",
    "data_scale['rolling'] = data_scale['weight (kg)'].rolling(12).mean()\n",
    "\n",
    "data_scale['rolling_std'] = data_scale['weight (kg)'].rolling(12).std()\n",
    "data_scale['diff'] = data_scale['rolling'].diff()"
   ]
  },
  {
   "cell_type": "code",
   "execution_count": 21,
   "id": "3ee9e3f3-a81e-40ca-8acd-8c6cea3af379",
   "metadata": {
    "iooxa": {
     "id": {
      "block": "8vqKLv1dUvL3JQbTxoRH",
      "project": "r50sjqh0N833m3jIlRNr",
      "version": 1
     },
     "outputId": null
    }
   },
   "outputs": [],
   "source": [
    "diurn=[]\n",
    "for d in data_scale['abs_date_new']:\n",
    "    #print(d)\n",
    "    #print(int(d.strftime('%H')))\n",
    "    if int(d.strftime('%H'))>=7 and int(d.strftime('%H'))<=19:\n",
    "        diurn.append(True)\n",
    "    else:\n",
    "        diurn.append(False)\n",
    "\n",
    "data_scale['diurn'] = diurn  "
   ]
  },
  {
   "cell_type": "code",
   "execution_count": 22,
   "id": "242df5ba-59d5-4f54-a04a-3a530b27d746",
   "metadata": {
    "iooxa": {
     "id": {
      "block": "VR06q4DJDGTT3IIMk4TS",
      "project": "r50sjqh0N833m3jIlRNr",
      "version": 1
     },
     "outputId": {
      "block": "qJzCR2uM6bIcOmBl4Wu2",
      "project": "r50sjqh0N833m3jIlRNr",
      "version": 1
     }
    }
   },
   "outputs": [
    {
     "data": {
      "image/png": "[encoded data removed]",
      "text/plain": [
       "<Figure size 1008x360 with 1 Axes>"
      ]
     },
     "metadata": {
      "needs_background": "light"
     },
     "output_type": "display_data"
    }
   ],
   "source": [
    "fig, ax = plt.subplots(figsize=(14, 5))\n",
    "\n",
    "data_scale.plot.scatter(x='abs_date_new',y='weight (kg)', ax=ax)\n",
    "data_scale.plot(x='abs_date_new',y='rolling', ax=ax, color='r')\n",
    "\n",
    "ax.xaxis.set_major_locator(mdates.DayLocator(interval=1))\n",
    "ax.xaxis.set_minor_locator(mdates.HourLocator(interval=4))\n",
    "\n",
    "ax.xaxis.set_major_formatter(mdates.DateFormatter('%d'))\n",
    "ax.xaxis.set_minor_formatter(mdates.DateFormatter('%H'))\n",
    "\n",
    "plt.gcf().autofmt_xdate()\n",
    "ax.fill_between(data_scale['abs_date_new'], data_scale['rolling'].min(), data_scale['rolling'].max(), where=data_scale['diurn']==True,\n",
    "                color='green', alpha=0.2, label='day')\n",
    "ax.fill_between(data_scale['abs_date_new'], data_scale['rolling'].min(), data_scale['rolling'].max(), where=data_scale['diurn']==False,\n",
    "                color='red', alpha=0.1, label='night')\n",
    "plt.xlabel('time (s)')\n",
    "plt.ylabel('rolling weight (kg)')\n",
    "plt.legend()\n",
    "plt.grid()\n",
    "plt.tight_layout()\n",
    "\n",
    "plt.show()\n",
    "fig.savefig(sheet_name[sheet_nb-1]+'.png', \n",
    "            dpi=450,\n",
    "            transparent=False)\n"
   ]
  },
  {
   "cell_type": "markdown",
   "id": "8f68b691-acbb-4ea4-a893-d045fff258ef",
   "metadata": {
    "iooxa": {
     "id": {
      "block": "mWtQrIKeOnOXB5TfGQNT",
      "project": "r50sjqh0N833m3jIlRNr",
      "version": 1
     }
    }
   },
   "source": [
    "## Potential ET evaluation"
   ]
  },
  {
   "cell_type": "code",
   "execution_count": 9,
   "id": "fe8aa549-db10-4858-ab09-5c4b4bfbc8ff",
   "metadata": {
    "iooxa": {
     "id": {
      "block": "tMiFW8T7N5RQDr9o1SkC",
      "project": "r50sjqh0N833m3jIlRNr",
      "version": 1
     },
     "outputId": null
    }
   },
   "outputs": [],
   "source": [
    "date0 = data_scale['abs_date_new'][0]\n",
    "date1 = data_scale['abs_date_new'].iloc[-1]\n",
    "delta = date1 - date0\n",
    "\n",
    "mask = (data_scale['abs_date_new'] > date0) & (data_scale['abs_date_new'] <= date1)\n",
    "weight_lost = data_scale['weight (kg)'].loc[mask]\n",
    "\n",
    "rhizo_surface_m2 = 0.03*0.5\n",
    "\n",
    "data_scale['ET_sec'] = (weight_lost/delta.total_seconds())*rhizo_surface_m2\n",
    "data_scale['ET_h'] =  (weight_lost/round(delta.total_seconds()/60))*rhizo_surface_m2\n",
    "\n",
    "data_scale_ET_sec = ((weight_lost.max() - weight_lost.min())/delta.total_seconds())*rhizo_surface_m2\n"
   ]
  },
  {
   "cell_type": "code",
   "execution_count": 10,
   "id": "987e6f1d-1400-4dfc-827f-73218aa7a2ec",
   "metadata": {
    "iooxa": {
     "id": {
      "block": "81O0Y9PrNW4zjf9SK1ZW",
      "project": "r50sjqh0N833m3jIlRNr",
      "version": 1
     },
     "outputId": {
      "block": "D3rlNTS9AxJqwpwDh54Y",
      "project": "r50sjqh0N833m3jIlRNr",
      "version": 1
     }
    }
   },
   "outputs": [
    {
     "data": {
      "text/plain": [
       "3.216941332181375e-09"
      ]
     },
     "execution_count": 10,
     "metadata": {},
     "output_type": "execute_result"
    }
   ],
   "source": [
    "data_scale_ET_sec"
   ]
  },
  {
   "cell_type": "code",
   "execution_count": 11,
   "id": "64e3d4e1-9347-4b54-8d89-750c74b76f7b",
   "metadata": {
    "iooxa": {
     "id": {
      "block": "JbtDt6THOcQ2aOzSLGmG",
      "project": "r50sjqh0N833m3jIlRNr",
      "version": 1
     },
     "outputId": {
      "block": "KJsFfEyA908aqfohkLP5",
      "project": "r50sjqh0N833m3jIlRNr",
      "version": 1
     }
    }
   },
   "outputs": [
    {
     "data": {
      "image/png": "[encoded data removed]",
      "text/plain": [
       "<Figure size 1080x360 with 1 Axes>"
      ]
     },
     "metadata": {
      "needs_background": "light"
     },
     "output_type": "display_data"
    }
   ],
   "source": [
    "fig, ax = plt.subplots(figsize=(15, 5))\n",
    "data_scale.plot(x='abs_date_new',y='ET_sec', ax=ax)\n",
    "\n",
    "ax.xaxis.set_major_locator(mdates.DayLocator(interval=1))\n",
    "ax.xaxis.set_minor_locator(mdates.HourLocator(interval=2))\n",
    "\n",
    "ax.xaxis.set_major_formatter(mdates.DateFormatter('%d-%H'))\n",
    "ax.xaxis.set_minor_formatter(mdates.DateFormatter('%H'))\n",
    "\n",
    "plt.gcf().autofmt_xdate()\n",
    "ax.fill_between(data_scale['abs_date_new'], data_scale['ET_sec'].min(), \n",
    "                data_scale['ET_sec'].max(), \n",
    "                where=data_scale['diurn']==True,\n",
    "                color='green', alpha=0.2, label='day')\n",
    "ax.fill_between(data_scale['abs_date_new'], data_scale['ET_sec'].min(), \n",
    "                data_scale['ET_sec'].max(), \n",
    "                where=data_scale['diurn']==False,\n",
    "                color='red', alpha=0.1, label='night')\n",
    "plt.xlabel('time (s)')\n",
    "plt.ylabel('ET (m/s)')\n",
    "plt.legend()\n",
    "plt.grid()\n",
    "plt.tight_layout()\n",
    "fig.savefig(sheet_name[sheet_nb-1]+'_ET.png', dpi=450)\n",
    "plt.show()"
   ]
  },
  {
   "cell_type": "markdown",
   "id": "aea74093-bb5e-4b91-9af3-b2ed1eb026bc",
   "metadata": {
    "iooxa": {
     "id": {
      "block": "0Gf6Z9BgjWRaLYz5qRS9",
      "project": "r50sjqh0N833m3jIlRNr",
      "version": 1
     }
    }
   },
   "source": [
    "### Bibliography"
   ]
  },
  {
   "cell_type": "markdown",
   "id": "3cb60478-4129-4d17-882e-ed4a62cc47b2",
   "metadata": {
    "iooxa": {
     "id": {
      "block": "UKmwu5oVSxF7klXTY7Tp",
      "project": "r50sjqh0N833m3jIlRNr",
      "version": 1
     }
    }
   },
   "source": [
    "## TO-DO\n",
    "- Normalise lost of weight by the leaf surface area measured at the end of the 30d growth period (see Garrigues et al., (2006)); + Technical Note: A Device to Directly Measure Transpiration from Vegetation Grown in Containers\n"
   ]
  },
  {
   "cell_type": "markdown",
   "id": "19a8d6bf-c8c8-410f-a28b-9f1e90d0be74",
   "metadata": {
    "iooxa": {
     "id": {
      "block": "3FNKsrvpmNtBWlvfT8hG",
      "project": "r50sjqh0N833m3jIlRNr",
      "version": 1
     }
    }
   },
   "source": [
    "#### Testing"
   ]
  },
  {
   "cell_type": "markdown",
   "id": "ed50b567",
   "metadata": {
    "iooxa": {
     "id": {
      "block": "Iv8IHHyzJw44ifou5mpx",
      "project": "r50sjqh0N833m3jIlRNr",
      "version": 1
     }
    }
   },
   "source": [
    "## ax = data_scale.plot(x='abs_date_new',y='rolling_std')\n",
    "ax.xaxis.set_major_locator(mdates.HourLocator(interval=8))\n",
    "ax.xaxis.set_major_formatter(mdates.DateFormatter('%d-%H'))\n",
    "plt.gcf().autofmt_xdate()\n",
    "plt.xlabel('time (s)')\n",
    "plt.ylabel('rolling_std weight (kg)')\n",
    "plt.grid()\n",
    "plt.show()"
   ]
  }
 ],
 "metadata": {
  "iooxa": {
   "id": {
    "block": "CZ13zIddxdBYJrWp9mdb",
    "project": "r50sjqh0N833m3jIlRNr",
    "version": 1
   }
  },
  "kernelspec": {
   "display_name": "Python 3 (ipykernel)",
   "language": "python",
   "name": "python3"
  },
  "language_info": {
   "codemirror_mode": {
    "name": "ipython",
    "version": 3
   },
   "file_extension": ".py",
   "mimetype": "text/x-python",
   "name": "python",
   "nbconvert_exporter": "python",
   "pygments_lexer": "ipython3",
   "version": "3.9.5"
  }
 },
 "nbformat": 4,
 "nbformat_minor": 5
}
