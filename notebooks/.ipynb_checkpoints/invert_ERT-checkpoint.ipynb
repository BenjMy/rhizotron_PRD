{
 "cells": [
  {
   "cell_type": "code",
   "execution_count": 1,
   "id": "ea42b28a",
   "metadata": {},
   "outputs": [
    {
     "name": "stdout",
     "output_type": "stream",
     "text": [
      "API path =  /home/ben/miniconda3/envs/pyPRD-dev/lib/python3.9/site-packages/resipy-3.3.3-py3.9.egg/resipy\n",
      "ResIPy version =  3.3.3\n",
      "cR2.exe found and up to date.\n",
      "R3t.exe found and up to date.\n",
      "cR3t.exe found and up to date.\n"
     ]
    }
   ],
   "source": [
    "import resipy\n",
    "from pyPRD import processing as proc"
   ]
  },
  {
   "cell_type": "code",
   "execution_count": 2,
   "id": "13a280cf",
   "metadata": {},
   "outputs": [],
   "source": [
    "project_path = './PRD/'\n",
    "timeStep = 2"
   ]
  },
  {
   "cell_type": "code",
   "execution_count": 3,
   "id": "d3bd409e",
   "metadata": {},
   "outputs": [
    {
     "name": "stdout",
     "output_type": "stream",
     "text": [
      "Working directory is: /home/ben/Documents/Ongoing/Rhizotron_PRD/inversion/PRD2\n",
      "clearing dirname\n",
      "4968/4968 reciprocal measurements found.\n",
      "52 measurements error > 20 %\n",
      "310 measurements with greater than 10.0% reciprocal error removed!\n",
      "Writing .in file and protocol.dat... done\n",
      "\n",
      "--------------------- MAIN INVERSION ------------------\n",
      "\n",
      "\n",
      " >> R 3 t     E R T    M o d e l    v 2.31 <<\n",
      "\n",
      " >> Date: 09-05-2022\n",
      " >> My beautiful 3D survey                                                          \n",
      " >> I n v e r s e   S o l u t i o n   S e l e c t e d <<\n",
      " >> A d v a n c e d   M e s h   I n p u t <<\n",
      " >> T e t r a h e d r a l   E l e m e n t   M e s h <<\n",
      "\n",
      " >> Reading mesh file \n",
      " >> Determining storage needed for finite element conductance matrix\n",
      " >> Generating index array for finite element conductance matrix\n",
      " >> Reading resistivity model from res0.dat                                                                        \n",
      "\n",
      " >> L o g - D a t a   I n v e r s i o n <<\n",
      " >> N o r m a l   R e g u l a r i s a t i o n <<\n",
      "\n",
      " >> Memory estimates:\n",
      "    For   1000 measurements the memory needed is:          0.272 Gb\n",
      "    For   2000 measurements the memory needed is:          0.532 Gb\n",
      "    For   5000 measurements the memory needed is:          1.314 Gb\n",
      "    For  10000 measurements the memory needed is:          2.617 Gb\n",
      "\n",
      " >> Forming roughness matrix\n",
      "\n",
      " >> Number of measurements read: 2329\n",
      "\n",
      " >> Total Memory required is:          0.618 Gb\n",
      "\n",
      "\n",
      " Processing frame   1 - output to file f001.dat\n",
      "\n",
      "   Iteration   1\n"
     ]
    },
    {
     "ename": "KeyboardInterrupt",
     "evalue": "",
     "output_type": "error",
     "traceback": [
      "Traceback \u001b[0;36m(most recent call last)\u001b[0m:\n",
      "  Input \u001b[1;32mIn [3]\u001b[0m in \u001b[1;35m<cell line: 1>\u001b[0m\n    proc.invert_PRD(project_path,timeStep)\n",
      "  File \u001b[1;32m~/Documents/Ongoing/Rhizotron_PRD/lib/pyPRD/processing.py:49\u001b[0m in \u001b[1;35minvert_PRD\u001b[0m\n    k.invert(modErr=False, parallel=True, modelDOI=False)\n",
      "  File \u001b[1;32m~/miniconda3/envs/pyPRD-dev/lib/python3.9/site-packages/resipy-3.3.3-py3.9.egg/resipy/Project.py:3712\u001b[0m in \u001b[1;35minvert\u001b[0m\n    self.runR2(dump=dump)\n",
      "  File \u001b[1;32m~/miniconda3/envs/pyPRD-dev/lib/python3.9/site-packages/resipy-3.3.3-py3.9.egg/resipy/Project.py:3350\u001b[0m in \u001b[1;35mrunR2\u001b[0m\n    for text in execute(cmd):\n",
      "\u001b[0;36m  File \u001b[0;32m~/miniconda3/envs/pyPRD-dev/lib/python3.9/site-packages/resipy-3.3.3-py3.9.egg/resipy/Project.py:3344\u001b[0;36m in \u001b[0;35mexecute\u001b[0;36m\u001b[0m\n\u001b[0;31m    for stdout_line in iter(self.proc.stdout.readline, \"\"):\u001b[0m\n",
      "\u001b[0;31mKeyboardInterrupt\u001b[0m\n"
     ]
    },
    {
     "name": "stdout",
     "output_type": "stream",
     "text": [
      "Error in callback <function flush_figures at 0x7f477167c820> (for post_execute):\n"
     ]
    },
    {
     "ename": "KeyboardInterrupt",
     "evalue": "",
     "output_type": "error",
     "traceback": [
      "Traceback \u001b[0;36m(most recent call last)\u001b[0m:\n",
      "  File \u001b[1;32m~/miniconda3/envs/pyPRD-dev/lib/python3.9/site-packages/matplotlib_inline/backend_inline.py:121\u001b[0m in \u001b[1;35mflush_figures\u001b[0m\n    return show(True)\n",
      "  File \u001b[1;32m~/miniconda3/envs/pyPRD-dev/lib/python3.9/site-packages/matplotlib_inline/backend_inline.py:41\u001b[0m in \u001b[1;35mshow\u001b[0m\n    display(\n",
      "  File \u001b[1;32m~/miniconda3/envs/pyPRD-dev/lib/python3.9/site-packages/IPython/core/display_functions.py:298\u001b[0m in \u001b[1;35mdisplay\u001b[0m\n    format_dict, md_dict = format(obj, include=include, exclude=exclude)\n",
      "  File \u001b[1;32m~/miniconda3/envs/pyPRD-dev/lib/python3.9/site-packages/IPython/core/formatters.py:178\u001b[0m in \u001b[1;35mformat\u001b[0m\n    data = formatter(obj)\n",
      "  File \u001b[1;32m~/miniconda3/envs/pyPRD-dev/lib/python3.9/site-packages/decorator.py:232\u001b[0m in \u001b[1;35mfun\u001b[0m\n    return caller(func, *(extras + args), **kw)\n",
      "  File \u001b[1;32m~/miniconda3/envs/pyPRD-dev/lib/python3.9/site-packages/IPython/core/formatters.py:222\u001b[0m in \u001b[1;35mcatch_format_error\u001b[0m\n    r = method(self, *args, **kwargs)\n",
      "  File \u001b[1;32m~/miniconda3/envs/pyPRD-dev/lib/python3.9/site-packages/IPython/core/formatters.py:339\u001b[0m in \u001b[1;35m__call__\u001b[0m\n    return printer(obj)\n",
      "  File \u001b[1;32m~/miniconda3/envs/pyPRD-dev/lib/python3.9/site-packages/IPython/core/pylabtools.py:151\u001b[0m in \u001b[1;35mprint_figure\u001b[0m\n    fig.canvas.print_figure(bytes_io, **kw)\n",
      "  File \u001b[1;32m~/miniconda3/envs/pyPRD-dev/lib/python3.9/site-packages/matplotlib-3.5.2-py3.9-linux-x86_64.egg/matplotlib/backend_bases.py:2295\u001b[0m in \u001b[1;35mprint_figure\u001b[0m\n    self.figure.draw(renderer)\n",
      "  File \u001b[1;32m~/miniconda3/envs/pyPRD-dev/lib/python3.9/site-packages/matplotlib-3.5.2-py3.9-linux-x86_64.egg/matplotlib/artist.py:73\u001b[0m in \u001b[1;35mdraw_wrapper\u001b[0m\n    result = draw(artist, renderer, *args, **kwargs)\n",
      "  File \u001b[1;32m~/miniconda3/envs/pyPRD-dev/lib/python3.9/site-packages/matplotlib-3.5.2-py3.9-linux-x86_64.egg/matplotlib/artist.py:50\u001b[0m in \u001b[1;35mdraw_wrapper\u001b[0m\n    return draw(artist, renderer)\n",
      "  File \u001b[1;32m~/miniconda3/envs/pyPRD-dev/lib/python3.9/site-packages/matplotlib-3.5.2-py3.9-linux-x86_64.egg/matplotlib/figure.py:2837\u001b[0m in \u001b[1;35mdraw\u001b[0m\n    mimage._draw_list_compositing_images(\n",
      "  File \u001b[1;32m~/miniconda3/envs/pyPRD-dev/lib/python3.9/site-packages/matplotlib-3.5.2-py3.9-linux-x86_64.egg/matplotlib/image.py:132\u001b[0m in \u001b[1;35m_draw_list_compositing_images\u001b[0m\n    a.draw(renderer)\n",
      "  File \u001b[1;32m~/miniconda3/envs/pyPRD-dev/lib/python3.9/site-packages/matplotlib-3.5.2-py3.9-linux-x86_64.egg/matplotlib/artist.py:50\u001b[0m in \u001b[1;35mdraw_wrapper\u001b[0m\n    return draw(artist, renderer)\n",
      "  File \u001b[1;32m~/miniconda3/envs/pyPRD-dev/lib/python3.9/site-packages/matplotlib-3.5.2-py3.9-linux-x86_64.egg/matplotlib/axes/_base.py:3091\u001b[0m in \u001b[1;35mdraw\u001b[0m\n    mimage._draw_list_compositing_images(\n",
      "  File \u001b[1;32m~/miniconda3/envs/pyPRD-dev/lib/python3.9/site-packages/matplotlib-3.5.2-py3.9-linux-x86_64.egg/matplotlib/image.py:132\u001b[0m in \u001b[1;35m_draw_list_compositing_images\u001b[0m\n    a.draw(renderer)\n",
      "  File \u001b[1;32m~/miniconda3/envs/pyPRD-dev/lib/python3.9/site-packages/matplotlib-3.5.2-py3.9-linux-x86_64.egg/matplotlib/artist.py:50\u001b[0m in \u001b[1;35mdraw_wrapper\u001b[0m\n    return draw(artist, renderer)\n",
      "  File \u001b[1;32m~/miniconda3/envs/pyPRD-dev/lib/python3.9/site-packages/matplotlib-3.5.2-py3.9-linux-x86_64.egg/matplotlib/axis.py:1158\u001b[0m in \u001b[1;35mdraw\u001b[0m\n    ticks_to_draw = self._update_ticks()\n",
      "  File \u001b[1;32m~/miniconda3/envs/pyPRD-dev/lib/python3.9/site-packages/matplotlib-3.5.2-py3.9-linux-x86_64.egg/matplotlib/axis.py:1055\u001b[0m in \u001b[1;35m_update_ticks\u001b[0m\n    minor_ticks = self.get_minor_ticks(len(minor_locs))\n",
      "  File \u001b[1;32m~/miniconda3/envs/pyPRD-dev/lib/python3.9/site-packages/matplotlib-3.5.2-py3.9-linux-x86_64.egg/matplotlib/axis.py:1388\u001b[0m in \u001b[1;35mget_minor_ticks\u001b[0m\n    tick = self._get_tick(major=False)\n",
      "  File \u001b[1;32m~/miniconda3/envs/pyPRD-dev/lib/python3.9/site-packages/matplotlib-3.5.2-py3.9-linux-x86_64.egg/matplotlib/axis.py:2322\u001b[0m in \u001b[1;35m_get_tick\u001b[0m\n    return YTick(self.axes, 0, major=major, **tick_kw)\n",
      "  File \u001b[1;32m~/miniconda3/envs/pyPRD-dev/lib/python3.9/site-packages/matplotlib-3.5.2-py3.9-linux-x86_64.egg/matplotlib/axis.py:476\u001b[0m in \u001b[1;35m__init__\u001b[0m\n    super().__init__(*args, **kwargs)\n",
      "  File \u001b[1;32m~/miniconda3/envs/pyPRD-dev/lib/python3.9/site-packages/matplotlib-3.5.2-py3.9-linux-x86_64.egg/matplotlib/axis.py:177\u001b[0m in \u001b[1;35m__init__\u001b[0m\n    self._apply_tickdir(tickdir)\n",
      "  File \u001b[1;32m~/miniconda3/envs/pyPRD-dev/lib/python3.9/site-packages/matplotlib-3.5.2-py3.9-linux-x86_64.egg/matplotlib/axis.py:512\u001b[0m in \u001b[1;35m_apply_tickdir\u001b[0m\n    self.tick2line.set_marker(mark2)\n",
      "  File \u001b[1;32m~/miniconda3/envs/pyPRD-dev/lib/python3.9/site-packages/matplotlib-3.5.2-py3.9-linux-x86_64.egg/matplotlib/lines.py:1146\u001b[0m in \u001b[1;35mset_marker\u001b[0m\n    self._marker = MarkerStyle(marker, self._marker.get_fillstyle())\n",
      "  File \u001b[1;32m~/miniconda3/envs/pyPRD-dev/lib/python3.9/site-packages/matplotlib-3.5.2-py3.9-linux-x86_64.egg/matplotlib/markers.py:235\u001b[0m in \u001b[1;35m__init__\u001b[0m\n    self._set_marker(marker)\n",
      "  File \u001b[1;32m~/miniconda3/envs/pyPRD-dev/lib/python3.9/site-packages/matplotlib-3.5.2-py3.9-linux-x86_64.egg/matplotlib/markers.py:334\u001b[0m in \u001b[1;35m_set_marker\u001b[0m\n    self._recache()\n",
      "  File \u001b[1;32m~/miniconda3/envs/pyPRD-dev/lib/python3.9/site-packages/matplotlib-3.5.2-py3.9-linux-x86_64.egg/matplotlib/markers.py:241\u001b[0m in \u001b[1;35m_recache\u001b[0m\n    self._transform = IdentityTransform()\n",
      "\u001b[0;36m  File \u001b[0;32m~/miniconda3/envs/pyPRD-dev/lib/python3.9/site-packages/matplotlib-3.5.2-py3.9-linux-x86_64.egg/matplotlib/transforms.py:1783\u001b[0;36m in \u001b[0;35m__init__\u001b[0;36m\u001b[0m\n\u001b[0;31m    def __init__(self, *args, **kwargs):\u001b[0m\n",
      "\u001b[0;31mKeyboardInterrupt\u001b[0m\n"
     ]
    }
   ],
   "source": [
    "proc.invert_PRD(project_path,timeStep)"
   ]
  },
  {
   "cell_type": "code",
   "execution_count": null,
   "id": "ad846cf2",
   "metadata": {},
   "outputs": [],
   "source": []
  }
 ],
 "metadata": {
  "kernelspec": {
   "display_name": "pyPRD-dev",
   "language": "python",
   "name": "pyprd-dev"
  },
  "language_info": {
   "codemirror_mode": {
    "name": "ipython",
    "version": 3
   },
   "file_extension": ".py",
   "mimetype": "text/x-python",
   "name": "python",
   "nbconvert_exporter": "python",
   "pygments_lexer": "ipython3",
   "version": "3.9.12"
  }
 },
 "nbformat": 4,
 "nbformat_minor": 5
}
