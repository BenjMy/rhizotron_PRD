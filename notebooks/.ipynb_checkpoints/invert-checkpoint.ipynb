{
 "cells": [
  {
   "cell_type": "code",
   "execution_count": null,
   "id": "7032d75f",
   "metadata": {},
   "outputs": [],
   "source": []
  },
  {
   "cell_type": "code",
   "execution_count": null,
   "id": "63999dd4",
   "metadata": {
    "lines_to_next_cell": 2
   },
   "outputs": [],
   "source": [
    "from pyPRD import processing as proc\n",
    "import numpy as np\n",
    "import pyvista as pv\n",
    "\n",
    "imaging_path = '../imaging_ERT_MALM/'\n",
    "\n",
    "filenames_ERT = ['PRD_ERT_1_130522',\n",
    "                 'PRD_ERT_1_170522', 'PRD_ERT_2_170522',\n",
    "                 'PRD_ERT_3_190522', 'PRD_ERT_4_190522',\n",
    "                 ]\n",
    "\n",
    "filenames_MALM = ['PRD_MALM_1_130522',\n",
    "                  'PRD_MALM_1_170522', 'PRD_MALM_2_170522',\n",
    "                  'PRD_MALM_3_190522', 'PRD_MALM_4_190522'\n",
    "                  ]\n",
    "\n",
    "indexf = [1]\n",
    "selected_files_ERT = [filenames_ERT[index] for index in indexf]\n",
    "selected_files_MALM = [filenames_MALM[index] for index in indexf]"
   ]
  },
  {
   "cell_type": "code",
   "execution_count": null,
   "id": "444fc590",
   "metadata": {
    "lines_to_next_cell": 2
   },
   "outputs": [],
   "source": [
    "\n",
    "\n",
    "# k.createBatchSurvey(imaging_path + 'filenames_ERT')\n",
    "# k.invert(parallel=True)\n",
    "\n",
    "\n",
    "k_indiv = []\n",
    "for i, f in enumerate(selected_files_ERT):\n",
    "    k_indiv.append(proc.invert_ERT(imaging_path,\n",
    "                                   filename=f,\n",
    "                                   recip=5)\n",
    "                   )\n",
    "    proc.plot_ERT(k_indiv[i], vmin=0, vmax=50,\n",
    "                  attr=\"Resistivity(ohm.m)\",\n",
    "                  index=0)\n",
    "proc.plot_ERT(k_indiv[0], vmin=0, vmax=2,\n",
    "              attr=\"Resistivity(log10)\",\n",
    "              index=0)"
   ]
  },
  {
   "cell_type": "code",
   "execution_count": null,
   "id": "e9cdadad",
   "metadata": {
    "lines_to_next_cell": 2
   },
   "outputs": [],
   "source": [
    "\n",
    "# idt_irr = [[3, 4]]\n",
    "\n",
    "# for itdIrr in idt_irr:\n",
    "#     selected_files_irr = [filenames_ERT[index] for index in itdIrr]\n",
    "\n",
    "#     k_TL = proc.invert_ERT_TL(\n",
    "#         imaging_path,\n",
    "#         files=selected_files_irr,\n",
    "#         regType=1,\n",
    "#         recip=5\n",
    "#     )\n",
    "\n",
    "#     proc.plot_ERT(k_TL, vmin=0, vmax=3, attr=\"Resistivity(log10)\", index=0)\n",
    "#     proc.plot_ERT(k_TL, vmin=0, vmax=50, attr=\"Resistivity(ohm.m)\", index=0)\n",
    "#     proc.plot_ERT(k_TL, vmin=0, vmax=50, attr=\"Resistivity(ohm.m)\", index=1)\n",
    "#     proc.plot_ERT(k_TL, vmin=-50, vmax=50, attr=\"difference(percent)\", index=1)"
   ]
  },
  {
   "cell_type": "code",
   "execution_count": null,
   "id": "f0daaa4c",
   "metadata": {},
   "outputs": [],
   "source": [
    "\n",
    "k_MALM = []\n",
    "for i, f in enumerate(selected_files_MALM):\n",
    "    outMALM = proc.prepare_MALM(imaging_path,\n",
    "                                f,\n",
    "                                k_indiv[i],\n",
    "                                )\n",
    "    k_MALM.append(outMALM[0])\n",
    "nodes = outMALM[3]\n",
    "imin = outMALM[1]"
   ]
  },
  {
   "cell_type": "code",
   "execution_count": null,
   "id": "9b0eeb62",
   "metadata": {},
   "outputs": [],
   "source": [
    "\n",
    "m0 = []\n",
    "for i, f in enumerate(selected_files_MALM):\n",
    "    m0.append(proc.m0_MALM(imaging_path + 'inversionMALM/' + f,\n",
    "                           method_m0='F1')\n",
    "              )\n",
    "\n",
    "    # pl = proc.plot_ERT(k_indiv[0], vmin=0, vmax=3,\n",
    "    #                    attr=\"Resistivity(log10)\",\n",
    "    #                    index=0, show=False)\n",
    "\n",
    "    proc.plot_m0_MALM(k_MALM[i], nodes, imin, m0[i])"
   ]
  },
  {
   "cell_type": "code",
   "execution_count": null,
   "id": "2837aa29",
   "metadata": {},
   "outputs": [],
   "source": [
    "\n",
    "sol = []\n",
    "for i, f in enumerate(selected_files_MALM):\n",
    "    sol.append(proc.invert_MALM(imaging_path + 'inversionMALM/' + f,\n",
    "                                wr=1)\n",
    "               )\n",
    "    proc.plot_MALM(k_MALM[i], nodes, imin, sol[i])"
   ]
  },
  {
   "cell_type": "code",
   "execution_count": null,
   "id": "b80442fb",
   "metadata": {},
   "outputs": [],
   "source": [
    "\n",
    "sol = []\n",
    "for i, f in enumerate(filenames_MALM):\n",
    "    sol.append(proc.invert_MALM(imaging_path + 'inversionMALM/' + f,\n",
    "                                pareto=True)\n",
    "                )\n",
    "    proc.plot_MALM(k_MALM[i],nodes,imin,sol[i][0])\n",
    "\n",
    "\n",
    "# # In[ ]:\n",
    "\n",
    "# k_TL = proc.invert_ERT_TL(\n",
    "#                             imaging_path,\n",
    "#                             files=filenames_ERT,\n",
    "#                             regType=1,\n",
    "#                             recip=10\n",
    "#                         )\n",
    "\n",
    "# proc.plot_ERT(k_TL, vmin=0, vmax=3, attr=\"Resistivity(log10)\", index=0)\n",
    "# proc.plot_ERT(k_TL, vmin=0, vmax=50, attr=\"Resistivity(ohm.m)\", index=0)\n",
    "# proc.plot_ERT(k_TL, vmin=0, vmax=50, attr=\"Resistivity(ohm.m)\", index=1)\n",
    "# proc.plot_ERT(k_TL, vmin=-50, vmax=50, attr=\"difference(percent)\", index=1)"
   ]
  },
  {
   "cell_type": "code",
   "execution_count": null,
   "id": "bc2e90b9",
   "metadata": {},
   "outputs": [],
   "source": []
  }
 ],
 "metadata": {
  "jupytext": {
   "cell_metadata_filter": "-all",
   "encoding": "# coding: utf-8",
   "executable": "/usr/bin/env python",
   "main_language": "python",
   "notebook_metadata_filter": "-all"
  }
 },
 "nbformat": 4,
 "nbformat_minor": 5
}
